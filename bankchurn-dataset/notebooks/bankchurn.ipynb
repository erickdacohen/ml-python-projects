{
 "cells": [
  {
   "cell_type": "markdown",
   "source": [
    "# Bankchurn Credit Cards Dataset \n",
    "\n",
    "We will analyze and model on the [Bankchurn](https://www.kaggle.com/sakshigoyal7/credit-card-customers) dataset from Kaggle.com that holds data on customers attrition of credit cards at a bank. This dataset is imbalanced, so we will try a few different models to predict which customers are likely to consider not having a credit card anymore. This notebook will dive through some EDA, data prep, and a few ML models.\n",
    "\n",
    "The first step will be to import the necessary modules and filepaths."
   ],
   "metadata": {}
  },
  {
   "cell_type": "code",
   "execution_count": 1,
   "source": [
    "import pandas as pd\n",
    "import numpy as np\n",
    "import matplotlib.pyplot as plt \n",
    "import seaborn as sns\n",
    "from janitor import clean_names\n",
    "from sklearn.model_selection import train_test_split, cross_val_score\n",
    "from sklearn import tree\n",
    "from sklearn import metrics\n",
    "from sklearn.ensemble import RandomForestClassifier, GradientBoostingClassifier\n",
    "\n",
    "data_raw_path = '../data-raw'\n",
    "data_output_path = '../data-output'\n",
    "bank_filename = 'BankChurners.csv'\n",
    "bank_filepath = data_raw_path + '/' + bank_filename"
   ],
   "outputs": [],
   "metadata": {}
  },
  {
   "cell_type": "markdown",
   "source": [
    "## EDA \n",
    "\n",
    "Let's first read-in our data and look at the first few rows. We will use the `clean_names()` method to convert the column names to **snake_case** format. \n",
    "\n",
    "*Note: The author of the dataset instructed us to remove the last two erroneous columns left over from a previous analysis using Naive Bayes. We will drop the last two columns.*"
   ],
   "metadata": {}
  },
  {
   "cell_type": "code",
   "execution_count": 2,
   "source": [
    "bank_raw = pd.read_csv(bank_filepath).clean_names()\n",
    "\n",
    "# drop naive bayes columns last two \n",
    "bank_df = bank_raw.iloc[:, :-2]\n",
    "bank_df.head()"
   ],
   "outputs": [
    {
     "output_type": "execute_result",
     "data": {
      "text/html": [
       "<div>\n",
       "<style scoped>\n",
       "    .dataframe tbody tr th:only-of-type {\n",
       "        vertical-align: middle;\n",
       "    }\n",
       "\n",
       "    .dataframe tbody tr th {\n",
       "        vertical-align: top;\n",
       "    }\n",
       "\n",
       "    .dataframe thead th {\n",
       "        text-align: right;\n",
       "    }\n",
       "</style>\n",
       "<table border=\"1\" class=\"dataframe\">\n",
       "  <thead>\n",
       "    <tr style=\"text-align: right;\">\n",
       "      <th></th>\n",
       "      <th>clientnum</th>\n",
       "      <th>attrition_flag</th>\n",
       "      <th>customer_age</th>\n",
       "      <th>gender</th>\n",
       "      <th>dependent_count</th>\n",
       "      <th>education_level</th>\n",
       "      <th>marital_status</th>\n",
       "      <th>income_category</th>\n",
       "      <th>card_category</th>\n",
       "      <th>months_on_book</th>\n",
       "      <th>...</th>\n",
       "      <th>months_inactive_12_mon</th>\n",
       "      <th>contacts_count_12_mon</th>\n",
       "      <th>credit_limit</th>\n",
       "      <th>total_revolving_bal</th>\n",
       "      <th>avg_open_to_buy</th>\n",
       "      <th>total_amt_chng_q4_q1</th>\n",
       "      <th>total_trans_amt</th>\n",
       "      <th>total_trans_ct</th>\n",
       "      <th>total_ct_chng_q4_q1</th>\n",
       "      <th>avg_utilization_ratio</th>\n",
       "    </tr>\n",
       "  </thead>\n",
       "  <tbody>\n",
       "    <tr>\n",
       "      <th>0</th>\n",
       "      <td>768805383</td>\n",
       "      <td>Existing Customer</td>\n",
       "      <td>45</td>\n",
       "      <td>M</td>\n",
       "      <td>3</td>\n",
       "      <td>High School</td>\n",
       "      <td>Married</td>\n",
       "      <td>$60K - $80K</td>\n",
       "      <td>Blue</td>\n",
       "      <td>39</td>\n",
       "      <td>...</td>\n",
       "      <td>1</td>\n",
       "      <td>3</td>\n",
       "      <td>12691.0</td>\n",
       "      <td>777</td>\n",
       "      <td>11914.0</td>\n",
       "      <td>1.335</td>\n",
       "      <td>1144</td>\n",
       "      <td>42</td>\n",
       "      <td>1.625</td>\n",
       "      <td>0.061</td>\n",
       "    </tr>\n",
       "    <tr>\n",
       "      <th>1</th>\n",
       "      <td>818770008</td>\n",
       "      <td>Existing Customer</td>\n",
       "      <td>49</td>\n",
       "      <td>F</td>\n",
       "      <td>5</td>\n",
       "      <td>Graduate</td>\n",
       "      <td>Single</td>\n",
       "      <td>Less than $40K</td>\n",
       "      <td>Blue</td>\n",
       "      <td>44</td>\n",
       "      <td>...</td>\n",
       "      <td>1</td>\n",
       "      <td>2</td>\n",
       "      <td>8256.0</td>\n",
       "      <td>864</td>\n",
       "      <td>7392.0</td>\n",
       "      <td>1.541</td>\n",
       "      <td>1291</td>\n",
       "      <td>33</td>\n",
       "      <td>3.714</td>\n",
       "      <td>0.105</td>\n",
       "    </tr>\n",
       "    <tr>\n",
       "      <th>2</th>\n",
       "      <td>713982108</td>\n",
       "      <td>Existing Customer</td>\n",
       "      <td>51</td>\n",
       "      <td>M</td>\n",
       "      <td>3</td>\n",
       "      <td>Graduate</td>\n",
       "      <td>Married</td>\n",
       "      <td>$80K - $120K</td>\n",
       "      <td>Blue</td>\n",
       "      <td>36</td>\n",
       "      <td>...</td>\n",
       "      <td>1</td>\n",
       "      <td>0</td>\n",
       "      <td>3418.0</td>\n",
       "      <td>0</td>\n",
       "      <td>3418.0</td>\n",
       "      <td>2.594</td>\n",
       "      <td>1887</td>\n",
       "      <td>20</td>\n",
       "      <td>2.333</td>\n",
       "      <td>0.000</td>\n",
       "    </tr>\n",
       "    <tr>\n",
       "      <th>3</th>\n",
       "      <td>769911858</td>\n",
       "      <td>Existing Customer</td>\n",
       "      <td>40</td>\n",
       "      <td>F</td>\n",
       "      <td>4</td>\n",
       "      <td>High School</td>\n",
       "      <td>Unknown</td>\n",
       "      <td>Less than $40K</td>\n",
       "      <td>Blue</td>\n",
       "      <td>34</td>\n",
       "      <td>...</td>\n",
       "      <td>4</td>\n",
       "      <td>1</td>\n",
       "      <td>3313.0</td>\n",
       "      <td>2517</td>\n",
       "      <td>796.0</td>\n",
       "      <td>1.405</td>\n",
       "      <td>1171</td>\n",
       "      <td>20</td>\n",
       "      <td>2.333</td>\n",
       "      <td>0.760</td>\n",
       "    </tr>\n",
       "    <tr>\n",
       "      <th>4</th>\n",
       "      <td>709106358</td>\n",
       "      <td>Existing Customer</td>\n",
       "      <td>40</td>\n",
       "      <td>M</td>\n",
       "      <td>3</td>\n",
       "      <td>Uneducated</td>\n",
       "      <td>Married</td>\n",
       "      <td>$60K - $80K</td>\n",
       "      <td>Blue</td>\n",
       "      <td>21</td>\n",
       "      <td>...</td>\n",
       "      <td>1</td>\n",
       "      <td>0</td>\n",
       "      <td>4716.0</td>\n",
       "      <td>0</td>\n",
       "      <td>4716.0</td>\n",
       "      <td>2.175</td>\n",
       "      <td>816</td>\n",
       "      <td>28</td>\n",
       "      <td>2.500</td>\n",
       "      <td>0.000</td>\n",
       "    </tr>\n",
       "  </tbody>\n",
       "</table>\n",
       "<p>5 rows × 21 columns</p>\n",
       "</div>"
      ],
      "text/plain": [
       "   clientnum     attrition_flag  customer_age gender  dependent_count  \\\n",
       "0  768805383  Existing Customer            45      M                3   \n",
       "1  818770008  Existing Customer            49      F                5   \n",
       "2  713982108  Existing Customer            51      M                3   \n",
       "3  769911858  Existing Customer            40      F                4   \n",
       "4  709106358  Existing Customer            40      M                3   \n",
       "\n",
       "  education_level marital_status income_category card_category  \\\n",
       "0     High School        Married     $60K - $80K          Blue   \n",
       "1        Graduate         Single  Less than $40K          Blue   \n",
       "2        Graduate        Married    $80K - $120K          Blue   \n",
       "3     High School        Unknown  Less than $40K          Blue   \n",
       "4      Uneducated        Married     $60K - $80K          Blue   \n",
       "\n",
       "   months_on_book  ...  months_inactive_12_mon  contacts_count_12_mon  \\\n",
       "0              39  ...                       1                      3   \n",
       "1              44  ...                       1                      2   \n",
       "2              36  ...                       1                      0   \n",
       "3              34  ...                       4                      1   \n",
       "4              21  ...                       1                      0   \n",
       "\n",
       "   credit_limit  total_revolving_bal  avg_open_to_buy  total_amt_chng_q4_q1  \\\n",
       "0       12691.0                  777          11914.0                 1.335   \n",
       "1        8256.0                  864           7392.0                 1.541   \n",
       "2        3418.0                    0           3418.0                 2.594   \n",
       "3        3313.0                 2517            796.0                 1.405   \n",
       "4        4716.0                    0           4716.0                 2.175   \n",
       "\n",
       "   total_trans_amt  total_trans_ct  total_ct_chng_q4_q1  avg_utilization_ratio  \n",
       "0             1144              42                1.625                  0.061  \n",
       "1             1291              33                3.714                  0.105  \n",
       "2             1887              20                2.333                  0.000  \n",
       "3             1171              20                2.333                  0.760  \n",
       "4              816              28                2.500                  0.000  \n",
       "\n",
       "[5 rows x 21 columns]"
      ]
     },
     "metadata": {},
     "execution_count": 2
    }
   ],
   "metadata": {}
  },
  {
   "cell_type": "markdown",
   "source": [
    "Things look to be in order. The dataset was read-in properly. Next, it is a good idea to check if there are any missing data we need to consider."
   ],
   "metadata": {}
  },
  {
   "cell_type": "code",
   "execution_count": 3,
   "source": [
    "bank_df.isna().any()\n",
    "assert bank_df.isna().any().sum() == 0"
   ],
   "outputs": [],
   "metadata": {}
  },
  {
   "cell_type": "markdown",
   "source": [
    "Looks like there is no missing data! Let's continue looking at some summary statistics to see what we can learn."
   ],
   "metadata": {}
  },
  {
   "cell_type": "code",
   "execution_count": 4,
   "source": [
    "bank_df.describe()"
   ],
   "outputs": [
    {
     "output_type": "execute_result",
     "data": {
      "text/html": [
       "<div>\n",
       "<style scoped>\n",
       "    .dataframe tbody tr th:only-of-type {\n",
       "        vertical-align: middle;\n",
       "    }\n",
       "\n",
       "    .dataframe tbody tr th {\n",
       "        vertical-align: top;\n",
       "    }\n",
       "\n",
       "    .dataframe thead th {\n",
       "        text-align: right;\n",
       "    }\n",
       "</style>\n",
       "<table border=\"1\" class=\"dataframe\">\n",
       "  <thead>\n",
       "    <tr style=\"text-align: right;\">\n",
       "      <th></th>\n",
       "      <th>clientnum</th>\n",
       "      <th>customer_age</th>\n",
       "      <th>dependent_count</th>\n",
       "      <th>months_on_book</th>\n",
       "      <th>total_relationship_count</th>\n",
       "      <th>months_inactive_12_mon</th>\n",
       "      <th>contacts_count_12_mon</th>\n",
       "      <th>credit_limit</th>\n",
       "      <th>total_revolving_bal</th>\n",
       "      <th>avg_open_to_buy</th>\n",
       "      <th>total_amt_chng_q4_q1</th>\n",
       "      <th>total_trans_amt</th>\n",
       "      <th>total_trans_ct</th>\n",
       "      <th>total_ct_chng_q4_q1</th>\n",
       "      <th>avg_utilization_ratio</th>\n",
       "    </tr>\n",
       "  </thead>\n",
       "  <tbody>\n",
       "    <tr>\n",
       "      <th>count</th>\n",
       "      <td>1.012700e+04</td>\n",
       "      <td>10127.000000</td>\n",
       "      <td>10127.000000</td>\n",
       "      <td>10127.000000</td>\n",
       "      <td>10127.000000</td>\n",
       "      <td>10127.000000</td>\n",
       "      <td>10127.000000</td>\n",
       "      <td>10127.000000</td>\n",
       "      <td>10127.000000</td>\n",
       "      <td>10127.000000</td>\n",
       "      <td>10127.000000</td>\n",
       "      <td>10127.000000</td>\n",
       "      <td>10127.000000</td>\n",
       "      <td>10127.000000</td>\n",
       "      <td>10127.000000</td>\n",
       "    </tr>\n",
       "    <tr>\n",
       "      <th>mean</th>\n",
       "      <td>7.391776e+08</td>\n",
       "      <td>46.325960</td>\n",
       "      <td>2.346203</td>\n",
       "      <td>35.928409</td>\n",
       "      <td>3.812580</td>\n",
       "      <td>2.341167</td>\n",
       "      <td>2.455317</td>\n",
       "      <td>8631.953698</td>\n",
       "      <td>1162.814061</td>\n",
       "      <td>7469.139637</td>\n",
       "      <td>0.759941</td>\n",
       "      <td>4404.086304</td>\n",
       "      <td>64.858695</td>\n",
       "      <td>0.712222</td>\n",
       "      <td>0.274894</td>\n",
       "    </tr>\n",
       "    <tr>\n",
       "      <th>std</th>\n",
       "      <td>3.690378e+07</td>\n",
       "      <td>8.016814</td>\n",
       "      <td>1.298908</td>\n",
       "      <td>7.986416</td>\n",
       "      <td>1.554408</td>\n",
       "      <td>1.010622</td>\n",
       "      <td>1.106225</td>\n",
       "      <td>9088.776650</td>\n",
       "      <td>814.987335</td>\n",
       "      <td>9090.685324</td>\n",
       "      <td>0.219207</td>\n",
       "      <td>3397.129254</td>\n",
       "      <td>23.472570</td>\n",
       "      <td>0.238086</td>\n",
       "      <td>0.275691</td>\n",
       "    </tr>\n",
       "    <tr>\n",
       "      <th>min</th>\n",
       "      <td>7.080821e+08</td>\n",
       "      <td>26.000000</td>\n",
       "      <td>0.000000</td>\n",
       "      <td>13.000000</td>\n",
       "      <td>1.000000</td>\n",
       "      <td>0.000000</td>\n",
       "      <td>0.000000</td>\n",
       "      <td>1438.300000</td>\n",
       "      <td>0.000000</td>\n",
       "      <td>3.000000</td>\n",
       "      <td>0.000000</td>\n",
       "      <td>510.000000</td>\n",
       "      <td>10.000000</td>\n",
       "      <td>0.000000</td>\n",
       "      <td>0.000000</td>\n",
       "    </tr>\n",
       "    <tr>\n",
       "      <th>25%</th>\n",
       "      <td>7.130368e+08</td>\n",
       "      <td>41.000000</td>\n",
       "      <td>1.000000</td>\n",
       "      <td>31.000000</td>\n",
       "      <td>3.000000</td>\n",
       "      <td>2.000000</td>\n",
       "      <td>2.000000</td>\n",
       "      <td>2555.000000</td>\n",
       "      <td>359.000000</td>\n",
       "      <td>1324.500000</td>\n",
       "      <td>0.631000</td>\n",
       "      <td>2155.500000</td>\n",
       "      <td>45.000000</td>\n",
       "      <td>0.582000</td>\n",
       "      <td>0.023000</td>\n",
       "    </tr>\n",
       "    <tr>\n",
       "      <th>50%</th>\n",
       "      <td>7.179264e+08</td>\n",
       "      <td>46.000000</td>\n",
       "      <td>2.000000</td>\n",
       "      <td>36.000000</td>\n",
       "      <td>4.000000</td>\n",
       "      <td>2.000000</td>\n",
       "      <td>2.000000</td>\n",
       "      <td>4549.000000</td>\n",
       "      <td>1276.000000</td>\n",
       "      <td>3474.000000</td>\n",
       "      <td>0.736000</td>\n",
       "      <td>3899.000000</td>\n",
       "      <td>67.000000</td>\n",
       "      <td>0.702000</td>\n",
       "      <td>0.176000</td>\n",
       "    </tr>\n",
       "    <tr>\n",
       "      <th>75%</th>\n",
       "      <td>7.731435e+08</td>\n",
       "      <td>52.000000</td>\n",
       "      <td>3.000000</td>\n",
       "      <td>40.000000</td>\n",
       "      <td>5.000000</td>\n",
       "      <td>3.000000</td>\n",
       "      <td>3.000000</td>\n",
       "      <td>11067.500000</td>\n",
       "      <td>1784.000000</td>\n",
       "      <td>9859.000000</td>\n",
       "      <td>0.859000</td>\n",
       "      <td>4741.000000</td>\n",
       "      <td>81.000000</td>\n",
       "      <td>0.818000</td>\n",
       "      <td>0.503000</td>\n",
       "    </tr>\n",
       "    <tr>\n",
       "      <th>max</th>\n",
       "      <td>8.283431e+08</td>\n",
       "      <td>73.000000</td>\n",
       "      <td>5.000000</td>\n",
       "      <td>56.000000</td>\n",
       "      <td>6.000000</td>\n",
       "      <td>6.000000</td>\n",
       "      <td>6.000000</td>\n",
       "      <td>34516.000000</td>\n",
       "      <td>2517.000000</td>\n",
       "      <td>34516.000000</td>\n",
       "      <td>3.397000</td>\n",
       "      <td>18484.000000</td>\n",
       "      <td>139.000000</td>\n",
       "      <td>3.714000</td>\n",
       "      <td>0.999000</td>\n",
       "    </tr>\n",
       "  </tbody>\n",
       "</table>\n",
       "</div>"
      ],
      "text/plain": [
       "          clientnum  customer_age  dependent_count  months_on_book  \\\n",
       "count  1.012700e+04  10127.000000     10127.000000    10127.000000   \n",
       "mean   7.391776e+08     46.325960         2.346203       35.928409   \n",
       "std    3.690378e+07      8.016814         1.298908        7.986416   \n",
       "min    7.080821e+08     26.000000         0.000000       13.000000   \n",
       "25%    7.130368e+08     41.000000         1.000000       31.000000   \n",
       "50%    7.179264e+08     46.000000         2.000000       36.000000   \n",
       "75%    7.731435e+08     52.000000         3.000000       40.000000   \n",
       "max    8.283431e+08     73.000000         5.000000       56.000000   \n",
       "\n",
       "       total_relationship_count  months_inactive_12_mon  \\\n",
       "count              10127.000000            10127.000000   \n",
       "mean                   3.812580                2.341167   \n",
       "std                    1.554408                1.010622   \n",
       "min                    1.000000                0.000000   \n",
       "25%                    3.000000                2.000000   \n",
       "50%                    4.000000                2.000000   \n",
       "75%                    5.000000                3.000000   \n",
       "max                    6.000000                6.000000   \n",
       "\n",
       "       contacts_count_12_mon  credit_limit  total_revolving_bal  \\\n",
       "count           10127.000000  10127.000000         10127.000000   \n",
       "mean                2.455317   8631.953698          1162.814061   \n",
       "std                 1.106225   9088.776650           814.987335   \n",
       "min                 0.000000   1438.300000             0.000000   \n",
       "25%                 2.000000   2555.000000           359.000000   \n",
       "50%                 2.000000   4549.000000          1276.000000   \n",
       "75%                 3.000000  11067.500000          1784.000000   \n",
       "max                 6.000000  34516.000000          2517.000000   \n",
       "\n",
       "       avg_open_to_buy  total_amt_chng_q4_q1  total_trans_amt  total_trans_ct  \\\n",
       "count     10127.000000          10127.000000     10127.000000    10127.000000   \n",
       "mean       7469.139637              0.759941      4404.086304       64.858695   \n",
       "std        9090.685324              0.219207      3397.129254       23.472570   \n",
       "min           3.000000              0.000000       510.000000       10.000000   \n",
       "25%        1324.500000              0.631000      2155.500000       45.000000   \n",
       "50%        3474.000000              0.736000      3899.000000       67.000000   \n",
       "75%        9859.000000              0.859000      4741.000000       81.000000   \n",
       "max       34516.000000              3.397000     18484.000000      139.000000   \n",
       "\n",
       "       total_ct_chng_q4_q1  avg_utilization_ratio  \n",
       "count         10127.000000           10127.000000  \n",
       "mean              0.712222               0.274894  \n",
       "std               0.238086               0.275691  \n",
       "min               0.000000               0.000000  \n",
       "25%               0.582000               0.023000  \n",
       "50%               0.702000               0.176000  \n",
       "75%               0.818000               0.503000  \n",
       "max               3.714000               0.999000  "
      ]
     },
     "metadata": {},
     "execution_count": 4
    }
   ],
   "metadata": {}
  },
  {
   "cell_type": "markdown",
   "source": [
    "There doesn't appear to be anything strange with the continuous values at a first glance. Let's check some properties of the remaining values."
   ],
   "metadata": {}
  },
  {
   "cell_type": "code",
   "execution_count": 5,
   "source": [
    "bank_df.info()"
   ],
   "outputs": [
    {
     "output_type": "stream",
     "name": "stdout",
     "text": [
      "<class 'pandas.core.frame.DataFrame'>\n",
      "RangeIndex: 10127 entries, 0 to 10126\n",
      "Data columns (total 21 columns):\n",
      " #   Column                    Non-Null Count  Dtype  \n",
      "---  ------                    --------------  -----  \n",
      " 0   clientnum                 10127 non-null  int64  \n",
      " 1   attrition_flag            10127 non-null  object \n",
      " 2   customer_age              10127 non-null  int64  \n",
      " 3   gender                    10127 non-null  object \n",
      " 4   dependent_count           10127 non-null  int64  \n",
      " 5   education_level           10127 non-null  object \n",
      " 6   marital_status            10127 non-null  object \n",
      " 7   income_category           10127 non-null  object \n",
      " 8   card_category             10127 non-null  object \n",
      " 9   months_on_book            10127 non-null  int64  \n",
      " 10  total_relationship_count  10127 non-null  int64  \n",
      " 11  months_inactive_12_mon    10127 non-null  int64  \n",
      " 12  contacts_count_12_mon     10127 non-null  int64  \n",
      " 13  credit_limit              10127 non-null  float64\n",
      " 14  total_revolving_bal       10127 non-null  int64  \n",
      " 15  avg_open_to_buy           10127 non-null  float64\n",
      " 16  total_amt_chng_q4_q1      10127 non-null  float64\n",
      " 17  total_trans_amt           10127 non-null  int64  \n",
      " 18  total_trans_ct            10127 non-null  int64  \n",
      " 19  total_ct_chng_q4_q1       10127 non-null  float64\n",
      " 20  avg_utilization_ratio     10127 non-null  float64\n",
      "dtypes: float64(5), int64(10), object(6)\n",
      "memory usage: 1.6+ MB\n"
     ]
    }
   ],
   "metadata": {}
  },
  {
   "cell_type": "markdown",
   "source": [
    "There are some values with the class of `object` that need to be converted to `category`."
   ],
   "metadata": {}
  },
  {
   "cell_type": "code",
   "execution_count": 6,
   "source": [
    "cat_vars = [\"attrition_flag\", \"gender\", \"education_level\", \n",
    "\"marital_status\", \"income_category\", \"card_category\"]\n",
    "\n",
    "bank_df[cat_vars] = bank_df[cat_vars].apply(lambda x: x.astype(\"category\"))"
   ],
   "outputs": [],
   "metadata": {}
  },
  {
   "cell_type": "code",
   "execution_count": 7,
   "source": [
    "bank_df.info()"
   ],
   "outputs": [
    {
     "output_type": "stream",
     "name": "stdout",
     "text": [
      "<class 'pandas.core.frame.DataFrame'>\n",
      "RangeIndex: 10127 entries, 0 to 10126\n",
      "Data columns (total 21 columns):\n",
      " #   Column                    Non-Null Count  Dtype   \n",
      "---  ------                    --------------  -----   \n",
      " 0   clientnum                 10127 non-null  int64   \n",
      " 1   attrition_flag            10127 non-null  category\n",
      " 2   customer_age              10127 non-null  int64   \n",
      " 3   gender                    10127 non-null  category\n",
      " 4   dependent_count           10127 non-null  int64   \n",
      " 5   education_level           10127 non-null  category\n",
      " 6   marital_status            10127 non-null  category\n",
      " 7   income_category           10127 non-null  category\n",
      " 8   card_category             10127 non-null  category\n",
      " 9   months_on_book            10127 non-null  int64   \n",
      " 10  total_relationship_count  10127 non-null  int64   \n",
      " 11  months_inactive_12_mon    10127 non-null  int64   \n",
      " 12  contacts_count_12_mon     10127 non-null  int64   \n",
      " 13  credit_limit              10127 non-null  float64 \n",
      " 14  total_revolving_bal       10127 non-null  int64   \n",
      " 15  avg_open_to_buy           10127 non-null  float64 \n",
      " 16  total_amt_chng_q4_q1      10127 non-null  float64 \n",
      " 17  total_trans_amt           10127 non-null  int64   \n",
      " 18  total_trans_ct            10127 non-null  int64   \n",
      " 19  total_ct_chng_q4_q1       10127 non-null  float64 \n",
      " 20  avg_utilization_ratio     10127 non-null  float64 \n",
      "dtypes: category(6), float64(5), int64(10)\n",
      "memory usage: 1.2 MB\n"
     ]
    }
   ],
   "metadata": {}
  },
  {
   "cell_type": "markdown",
   "source": [
    "Great! Now that those have been converted, let's look at some statistics on the categorical variables."
   ],
   "metadata": {}
  },
  {
   "cell_type": "code",
   "execution_count": 8,
   "source": [
    "bank_df[cat_vars].describe()"
   ],
   "outputs": [
    {
     "output_type": "execute_result",
     "data": {
      "text/html": [
       "<div>\n",
       "<style scoped>\n",
       "    .dataframe tbody tr th:only-of-type {\n",
       "        vertical-align: middle;\n",
       "    }\n",
       "\n",
       "    .dataframe tbody tr th {\n",
       "        vertical-align: top;\n",
       "    }\n",
       "\n",
       "    .dataframe thead th {\n",
       "        text-align: right;\n",
       "    }\n",
       "</style>\n",
       "<table border=\"1\" class=\"dataframe\">\n",
       "  <thead>\n",
       "    <tr style=\"text-align: right;\">\n",
       "      <th></th>\n",
       "      <th>attrition_flag</th>\n",
       "      <th>gender</th>\n",
       "      <th>education_level</th>\n",
       "      <th>marital_status</th>\n",
       "      <th>income_category</th>\n",
       "      <th>card_category</th>\n",
       "    </tr>\n",
       "  </thead>\n",
       "  <tbody>\n",
       "    <tr>\n",
       "      <th>count</th>\n",
       "      <td>10127</td>\n",
       "      <td>10127</td>\n",
       "      <td>10127</td>\n",
       "      <td>10127</td>\n",
       "      <td>10127</td>\n",
       "      <td>10127</td>\n",
       "    </tr>\n",
       "    <tr>\n",
       "      <th>unique</th>\n",
       "      <td>2</td>\n",
       "      <td>2</td>\n",
       "      <td>7</td>\n",
       "      <td>4</td>\n",
       "      <td>6</td>\n",
       "      <td>4</td>\n",
       "    </tr>\n",
       "    <tr>\n",
       "      <th>top</th>\n",
       "      <td>Existing Customer</td>\n",
       "      <td>F</td>\n",
       "      <td>Graduate</td>\n",
       "      <td>Married</td>\n",
       "      <td>Less than $40K</td>\n",
       "      <td>Blue</td>\n",
       "    </tr>\n",
       "    <tr>\n",
       "      <th>freq</th>\n",
       "      <td>8500</td>\n",
       "      <td>5358</td>\n",
       "      <td>3128</td>\n",
       "      <td>4687</td>\n",
       "      <td>3561</td>\n",
       "      <td>9436</td>\n",
       "    </tr>\n",
       "  </tbody>\n",
       "</table>\n",
       "</div>"
      ],
      "text/plain": [
       "           attrition_flag gender education_level marital_status  \\\n",
       "count               10127  10127           10127          10127   \n",
       "unique                  2      2               7              4   \n",
       "top     Existing Customer      F        Graduate        Married   \n",
       "freq                 8500   5358            3128           4687   \n",
       "\n",
       "       income_category card_category  \n",
       "count            10127         10127  \n",
       "unique               6             4  \n",
       "top     Less than $40K          Blue  \n",
       "freq              3561          9436  "
      ]
     },
     "metadata": {},
     "execution_count": 8
    }
   ],
   "metadata": {}
  },
  {
   "cell_type": "markdown",
   "source": [
    "As suspected, the `attrition_flag` column (our target variable) is imbalanced with 8,500 labeled as **Existing Customer**."
   ],
   "metadata": {}
  },
  {
   "cell_type": "code",
   "execution_count": 9,
   "source": [
    "bank_df[\"attrition_flag\"].value_counts()"
   ],
   "outputs": [
    {
     "output_type": "execute_result",
     "data": {
      "text/plain": [
       "Existing Customer    8500\n",
       "Attrited Customer    1627\n",
       "Name: attrition_flag, dtype: int64"
      ]
     },
     "metadata": {},
     "execution_count": 9
    }
   ],
   "metadata": {}
  },
  {
   "cell_type": "markdown",
   "source": [
    "Let's consider the correlation among the variables by looking at a correlation heatmap."
   ],
   "metadata": {}
  },
  {
   "cell_type": "code",
   "execution_count": 10,
   "source": [
    "corr_mat = bank_df.corr()\n",
    "sns.heatmap(corr_mat, annot = True);"
   ],
   "outputs": [
    {
     "output_type": "display_data",
     "data": {
      "image/png": "[encoded data removed]",
      "text/plain": [
       "<Figure size 432x288 with 2 Axes>"
      ]
     },
     "metadata": {
      "needs_background": "light"
     }
    }
   ],
   "metadata": {}
  },
  {
   "cell_type": "markdown",
   "source": [
    "Since there are so many predictors and likely high colinearity among variables, perhaps a tree-based model could be good for the dataset. Let's start preparing the data for modeling.\n",
    "\n",
    "## Preparing for Modeling\n",
    "\n",
    "First, we will split the data into `X` and `y`, holding our predictor and target variables respectively."
   ],
   "metadata": {}
  },
  {
   "cell_type": "code",
   "execution_count": 11,
   "source": [
    "X = bank_df.drop(columns=[\"attrition_flag\", \"clientnum\"])\n",
    "y = bank_df.attrition_flag.to_numpy()"
   ],
   "outputs": [],
   "metadata": {}
  },
  {
   "cell_type": "markdown",
   "source": [
    "Next, we will encode the categorical variables by creating dummy variables for modeling in `X`, and encode `y` as a boolean with `0` if the customer is an **Existing Customer** or a `1` if they are an `Attrited Customer`."
   ],
   "metadata": {}
  },
  {
   "cell_type": "code",
   "execution_count": 12,
   "source": [
    "X = pd.get_dummies(X)\n",
    "y = [0 if row == \"Existing Customer\" else 1 for row in y]"
   ],
   "outputs": [],
   "metadata": {}
  },
  {
   "cell_type": "markdown",
   "source": [
    "Finally, we split our data into training, testing, and validation sets to compare how our model(s) perform."
   ],
   "metadata": {}
  },
  {
   "cell_type": "code",
   "execution_count": 13,
   "source": [
    "X_train, X_test, y_train, y_test = train_test_split(\n",
    "    X, y, random_state=713\n",
    ")\n",
    "\n",
    "# Validation split\n",
    "X_train, X_val, y_train, y_val = train_test_split(\n",
    "    X_train, y_train, random_state=515\n",
    ")"
   ],
   "outputs": [],
   "metadata": {}
  },
  {
   "cell_type": "markdown",
   "source": [
    "## Modeling \n",
    "\n",
    "We will try a few different tree-based models to see if we can predict customer attrition. Since this is a binary classification problem, we will measure success in terms of **precisio** or true positives. We will also look at **recall** and **AUC** scores.\n",
    "\n",
    "#### Decision Tree Classifier\n",
    "\n",
    "We will use a simple decision tree classifier first and see how our model performs. "
   ],
   "metadata": {}
  },
  {
   "cell_type": "code",
   "execution_count": 14,
   "source": [
    "# Decision tree classifier. \n",
    "tree_clsfr = tree.DecisionTreeClassifier(criterion=\"gini\", random_state=76)\n",
    "tree_clsfr.fit(X_train, y_train)"
   ],
   "outputs": [
    {
     "output_type": "execute_result",
     "data": {
      "text/plain": [
       "DecisionTreeClassifier(random_state=76)"
      ]
     },
     "metadata": {},
     "execution_count": 14
    }
   ],
   "metadata": {}
  },
  {
   "cell_type": "markdown",
   "source": [
    "Now that the first model has been trained, let's define a function to return metrics for us."
   ],
   "metadata": {}
  },
  {
   "cell_type": "code",
   "execution_count": 15,
   "source": [
    "def getPredsAndScores(model, X_train, X_val, y_train, y_val):\n",
    "    preds = model.predict(X_train) # prediction using training data\n",
    "    \n",
    "    precision = metrics.precision_score(y_train, preds) # metrics \n",
    "    recall = metrics.recall_score(y_train, preds)\n",
    "    auc_score = metrics.roc_auc_score(y_train, preds)\n",
    "\n",
    "    tree_cv_score = cross_val_score(\n",
    "        model, X_train, y_train, scoring=\"precision\", cv=10\n",
    "        ) # Cross validation score\n",
    "    \n",
    "    # print out results\n",
    "    print(\n",
    "        f\"\\nAverage CV Precision Score for model: {tree_cv_score.mean():.2%} \\n\"\n",
    "        ) \n",
    "\n",
    "    print(f\"Precision Score: {precision:.2%}\")\n",
    "    print(f\"Recall Score: {recall:.2%}\")\n",
    "    print(f\"AUC Score: {auc_score:.2%} \\n\")\n",
    "\n",
    "    val_preds = model.predict(X_val) # prediction using val data\n",
    "\n",
    "    val_precision = metrics.precision_score(y_val, val_preds) # val metrics\n",
    "    val_recall = metrics.recall_score(y_val, val_preds)\n",
    "    val_auc_score = metrics.roc_auc_score(y_val, val_preds)\n",
    "\n",
    "    # print val data metrics \n",
    "    print(f\"Validation Precision Score: {val_precision:.2%}\")\n",
    "    print(f\"Validation Recall Score: {val_recall:.2%}\")\n",
    "    print(f\"Validation AUC Score: {val_auc_score:.2%}\")"
   ],
   "outputs": [],
   "metadata": {}
  },
  {
   "cell_type": "markdown",
   "source": [
    "We will be able to reuse this function as we try different models. Let's look at the scores and cross validation values from the first Decision Tree Classifier."
   ],
   "metadata": {}
  },
  {
   "cell_type": "code",
   "execution_count": 16,
   "source": [
    "getPredsAndScores(tree_clsfr, X_train, X_val, y_train, y_val)"
   ],
   "outputs": [
    {
     "output_type": "stream",
     "name": "stdout",
     "text": [
      "\n",
      "Average CV Precision Score for model: 79.64% \n",
      "\n",
      "Precision Score: 100.00%\n",
      "Recall Score: 100.00%\n",
      "AUC Score: 100.00% \n",
      "\n",
      "Validation Precision Score: 77.05%\n",
      "Validation Recall Score: 80.20%\n",
      "Validation AUC Score: 87.92%\n"
     ]
    }
   ],
   "metadata": {}
  },
  {
   "cell_type": "markdown",
   "source": [
    "Interesting results! Our training scores for precision, recall, and AUC were all 100%, while the validation scores were lower. This is a clear sign that our model is overfitting. Perhaps we can tweak the model to have a shallower depth to prevent overfitting.\n",
    "\n",
    "#### Decision Tree With Lower Depth\n",
    "\n",
    "We will define a Decision Tree Classifier model with a smaller depth."
   ],
   "metadata": {}
  },
  {
   "cell_type": "code",
   "execution_count": 17,
   "source": [
    "# Above shows evidence of overfitting.\n",
    "tree_clsfr_depth = tree.DecisionTreeClassifier(\n",
    "    criterion=\"gini\", max_depth=5 ,random_state=77\n",
    "    )\n",
    "tree_clsfr_depth.fit(X_train, y_train) "
   ],
   "outputs": [
    {
     "output_type": "execute_result",
     "data": {
      "text/plain": [
       "DecisionTreeClassifier(max_depth=5, random_state=77)"
      ]
     },
     "metadata": {},
     "execution_count": 17
    }
   ],
   "metadata": {}
  },
  {
   "cell_type": "code",
   "execution_count": 18,
   "source": [
    "getPredsAndScores(tree_clsfr_depth, X_train, X_val, y_train, y_val)"
   ],
   "outputs": [
    {
     "output_type": "stream",
     "name": "stdout",
     "text": [
      "\n",
      "Average CV Precision Score for model: 76.35% \n",
      "\n",
      "Precision Score: 79.39%\n",
      "Recall Score: 84.75%\n",
      "AUC Score: 90.26% \n",
      "\n",
      "Validation Precision Score: 73.94%\n",
      "Validation Recall Score: 83.28%\n",
      "Validation AUC Score: 88.96%\n"
     ]
    }
   ],
   "metadata": {}
  },
  {
   "cell_type": "markdown",
   "source": [
    "Looks better! The model appears to not be overfitting as much as before. Our precision score lands at around 74%. We could see how it performs on the test data as well. Let's define a new function to handle the scores for the test data that will have no validation values."
   ],
   "metadata": {}
  },
  {
   "cell_type": "code",
   "execution_count": 19,
   "source": [
    "def getTestScores(model, X_test=X_test, y_test=y_test):\n",
    "    test_preds = model.predict(X_test)\n",
    "\n",
    "    test_cv_score = cross_val_score(model, X_test, y_test, scoring=\"precision\", cv=10)\n",
    "    print(f\"Average CV Precision Score: {test_cv_score.mean():.2%} \\n\")\n",
    "\n",
    "    test_precision = metrics.precision_score(y_test, test_preds)\n",
    "    test_recall = metrics.recall_score(y_test, test_preds)\n",
    "    test_auc_score = metrics.roc_auc_score(y_test, test_preds)\n",
    "\n",
    "    print(f\"Precision Score: {test_precision:.2%}\")\n",
    "    print(f\"Recall Score: {test_recall:.2%}\")\n",
    "    print(f\"AUC Score: {test_auc_score:.2%}\")"
   ],
   "outputs": [],
   "metadata": {}
  },
  {
   "cell_type": "markdown",
   "source": [
    "Great! Now let's use the function to see how the `tree_clsfr_depth` model performs on the test data."
   ],
   "metadata": {}
  },
  {
   "cell_type": "code",
   "execution_count": 20,
   "source": [
    "# now on the test data\n",
    "getTestScores(tree_clsfr_depth)"
   ],
   "outputs": [
    {
     "output_type": "stream",
     "name": "stdout",
     "text": [
      "Average CV Precision Score: 74.64% \n",
      "\n",
      "Precision Score: 76.79%\n",
      "Recall Score: 82.69%\n",
      "AUC Score: 88.89%\n"
     ]
    }
   ],
   "metadata": {}
  },
  {
   "cell_type": "markdown",
   "source": [
    "Not bad! We got a true positive success rate of over 3/4s! \n",
    "\n",
    "Perhaps a model with multiple trees can work better.\n",
    "\n",
    "#### Random Forest Model\n",
    "\n",
    "We define a new Random Forest Classifier and fit it to the training data below."
   ],
   "metadata": {}
  },
  {
   "cell_type": "code",
   "execution_count": 21,
   "source": [
    "# Try new random forest model \n",
    "rfc = RandomForestClassifier(n_estimators=3, random_state=10) \n",
    "# 3 appears to be a good number of estimators after a few tries. \n",
    "rfc.fit(X_train, y_train)\n",
    "\n",
    "getPredsAndScores(rfc, X_train, X_val, y_train, y_val)"
   ],
   "outputs": [
    {
     "output_type": "stream",
     "name": "stdout",
     "text": [
      "\n",
      "Average CV Precision Score for model: 81.39% \n",
      "\n",
      "Precision Score: 97.26%\n",
      "Recall Score: 92.92%\n",
      "AUC Score: 96.21% \n",
      "\n",
      "Validation Precision Score: 80.46%\n",
      "Validation Recall Score: 71.67%\n",
      "Validation AUC Score: 84.25%\n"
     ]
    }
   ],
   "metadata": {}
  },
  {
   "cell_type": "code",
   "execution_count": 22,
   "source": [
    "getTestScores(rfc)"
   ],
   "outputs": [
    {
     "output_type": "stream",
     "name": "stdout",
     "text": [
      "Average CV Precision Score: 79.22% \n",
      "\n",
      "Precision Score: 82.85%\n",
      "Recall Score: 68.51%\n",
      "AUC Score: 82.86%\n"
     ]
    }
   ],
   "metadata": {}
  },
  {
   "cell_type": "markdown",
   "source": [
    "We see a modest increase in precision using Random Forest. Let's see if a Gradient Boosted Classifier get's us a better result.\n",
    "\n",
    "#### Gradient Boosted Classifier\n",
    "\n",
    "Let's see if we can improve our score using this ensemble method to classify the individuals. "
   ],
   "metadata": {}
  },
  {
   "cell_type": "code",
   "execution_count": 23,
   "source": [
    "gbc = GradientBoostingClassifier(random_state=10)\n",
    "gbc.fit(X_train, y_train)\n",
    "\n",
    "getPredsAndScores(gbc, X_train, X_val, y_train, y_val)"
   ],
   "outputs": [
    {
     "output_type": "stream",
     "name": "stdout",
     "text": [
      "\n",
      "Average CV Precision Score for model: 92.96% \n",
      "\n",
      "Precision Score: 95.98%\n",
      "Recall Score: 88.45%\n",
      "AUC Score: 93.87% \n",
      "\n",
      "Validation Precision Score: 90.94%\n",
      "Validation Recall Score: 85.67%\n",
      "Validation AUC Score: 92.05%\n"
     ]
    }
   ],
   "metadata": {}
  },
  {
   "cell_type": "markdown",
   "source": [
    "The best score yet! Our model does not appear to be overfitting to the training data and the precision score is about 90%! Let's see the model in action on the testing data."
   ],
   "metadata": {}
  },
  {
   "cell_type": "code",
   "execution_count": 24,
   "source": [
    "getTestScores(gbc)"
   ],
   "outputs": [
    {
     "output_type": "stream",
     "name": "stdout",
     "text": [
      "Average CV Precision Score: 92.68% \n",
      "\n",
      "Precision Score: 92.41%\n",
      "Recall Score: 87.74%\n",
      "AUC Score: 93.16%\n"
     ]
    }
   ],
   "metadata": {}
  },
  {
   "cell_type": "markdown",
   "source": [
    "The model performed strongly on the test data showing a 92% true positive rate. \n",
    "\n",
    "## Summary \n",
    "\n",
    "Since the false negatives in this particular case (someone being labeled as attrition when they are not) is not a big concern, these tree-based models have shown that a high precision score is possible. We looked at Decision Tree Classifiers, a Random Forest model, and a Gradient Boosted Classifier model, and the Gradient Boosted Classifier performed the best. The model scored a precision of about 92% on the testing dataset."
   ],
   "metadata": {}
  }
 ],
 "metadata": {
  "orig_nbformat": 4,
  "language_info": {
   "name": "python",
   "version": "3.9.7",
   "mimetype": "text/x-python",
   "codemirror_mode": {
    "name": "ipython",
    "version": 3
   },
   "pygments_lexer": "ipython3",
   "nbconvert_exporter": "python",
   "file_extension": ".py"
  },
  "kernelspec": {
   "name": "python3",
   "display_name": "Python 3.9.6 64-bit"
  },
  "interpreter": {
   "hash": "aee8b7b246df8f9039afb4144a1f6fd8d2ca17a180786b69acc140d282b71a49"
  }
 },
 "nbformat": 4,
 "nbformat_minor": 2
}